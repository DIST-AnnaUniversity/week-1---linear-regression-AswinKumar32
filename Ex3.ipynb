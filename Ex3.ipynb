{
  "nbformat": 4,
  "nbformat_minor": 0,
  "metadata": {
    "colab": {
      "provenance": [],
      "collapsed_sections": []
    },
    "kernelspec": {
      "name": "python3",
      "display_name": "Python 3"
    },
    "language_info": {
      "name": "python"
    }
  },
  "cells": [
    {
      "cell_type": "code",
      "execution_count": 2,
      "metadata": {
        "colab": {
          "base_uri": "https://localhost:8080/"
        },
        "id": "UBdawV_Lbi8h",
        "outputId": "f214d6df-edfe-45f5-8c01-9fb66b000f4f"
      },
      "outputs": [
        {
          "output_type": "stream",
          "name": "stdout",
          "text": [
            "Intercept: \n",
            " 1798.4039776258544\n",
            "Coefficients: \n",
            " [ 345.54008701 -250.14657137]\n",
            "                            OLS Regression Results                            \n",
            "==============================================================================\n",
            "Dep. Variable:            index_price   R-squared:                       0.898\n",
            "Model:                            OLS   Adj. R-squared:                  0.888\n",
            "Method:                 Least Squares   F-statistic:                     92.07\n",
            "Date:                Wed, 26 Oct 2022   Prob (F-statistic):           4.04e-11\n",
            "Time:                        13:20:25   Log-Likelihood:                -134.61\n",
            "No. Observations:                  24   AIC:                             275.2\n",
            "Df Residuals:                      21   BIC:                             278.8\n",
            "Df Model:                           2                                         \n",
            "Covariance Type:            nonrobust                                         \n",
            "=====================================================================================\n",
            "                        coef    std err          t      P>|t|      [0.025      0.975]\n",
            "-------------------------------------------------------------------------------------\n",
            "const              1798.4040    899.248      2.000      0.059     -71.685    3668.493\n",
            "interest_rate       345.5401    111.367      3.103      0.005     113.940     577.140\n",
            "unemployment_rate  -250.1466    117.950     -2.121      0.046    -495.437      -4.856\n",
            "==============================================================================\n",
            "Omnibus:                        2.691   Durbin-Watson:                   0.530\n",
            "Prob(Omnibus):                  0.260   Jarque-Bera (JB):                1.551\n",
            "Skew:                          -0.612   Prob(JB):                        0.461\n",
            "Kurtosis:                       3.226   Cond. No.                         394.\n",
            "==============================================================================\n",
            "\n",
            "Notes:\n",
            "[1] Standard Errors assume that the covariance matrix of the errors is correctly specified.\n"
          ]
        },
        {
          "output_type": "stream",
          "name": "stderr",
          "text": [
            "/usr/local/lib/python3.7/dist-packages/statsmodels/tsa/tsatools.py:142: FutureWarning: In a future version of pandas all arguments of concat except for the argument 'objs' will be keyword-only\n",
            "  x = pd.concat(x[::order], 1)\n"
          ]
        }
      ],
      "source": [
        "import pandas as pd\n",
        "from sklearn import linear_model\n",
        "import statsmodels.api as sm\n",
        "\n",
        "data = {'year': [2017,2017,2017,2017,2017,2017,2017,2017,2017,2017,2017,2017,2016,2016,2016,2016,2016,2016,2016,2016,2016,2016,2016,2016],\n",
        "        'month': [12,11,10,9,8,7,6,5,4,3,2,1,12,11,10,9,8,7,6,5,4,3,2,1],\n",
        "        'interest_rate': [2.75,2.5,2.5,2.5,2.5,2.5,2.5,2.25,2.25,2.25,2,2,2,1.75,1.75,1.75,1.75,1.75,1.75,1.75,1.75,1.75,1.75,1.75],\n",
        "        'unemployment_rate': [5.3,5.3,5.3,5.3,5.4,5.6,5.5,5.5,5.5,5.6,5.7,5.9,6,5.9,5.8,6.1,6.2,6.1,6.1,6.1,5.9,6.2,6.2,6.1],\n",
        "        'index_price': [1464,1394,1357,1293,1256,1254,1234,1195,1159,1167,1130,1075,1047,965,943,958,971,949,884,866,876,822,704,719]        \n",
        "        }\n",
        "\n",
        "df = pd.DataFrame(data)\n",
        "\n",
        "x = df[['interest_rate','unemployment_rate']]\n",
        "y = df['index_price']\n",
        " \n",
        "# with sklearn\n",
        "regr = linear_model.LinearRegression()\n",
        "regr.fit(x, y)\n",
        "\n",
        "print('Intercept: \\n', regr.intercept_)\n",
        "print('Coefficients: \\n', regr.coef_)\n",
        "\n",
        "# with statsmodels\n",
        "x = sm.add_constant(x) # adding a constant\n",
        " \n",
        "model = sm.OLS(y, x).fit()\n",
        "predictions = model.predict(x) \n",
        " \n",
        "print_model = model.summary()\n",
        "print(print_model)"
      ]
    }
  ]
}